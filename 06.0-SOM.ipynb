{
 "cells": [
  {
   "cell_type": "code",
   "execution_count": 22,
   "metadata": {},
   "outputs": [],
   "source": [
    "# SOM ( self organizing map ) algoritmos\n",
    "# algoritmo de agrupamento // não supervisionado"
   ]
  },
  {
   "cell_type": "code",
   "execution_count": 23,
   "metadata": {},
   "outputs": [],
   "source": [
    "# importando bibliotecas necessárias\n",
    "\n",
    "import pandas as pd                                       # biblioteca para manipulação de dados\n",
    "import numpy as np                                        # biblioteca para cálculos matemáticos\n",
    "from sklearn.preprocessing import MinMaxScaler            # biblioteca para normalização dos dados\n",
    "from minisom import MiniSom                               # biblioteca para criação do SOM\n",
    "from pylab import bone, pcolor, colorbar, plot, show      # biblioteca para plotar gráficos"
   ]
  },
  {
   "cell_type": "code",
   "execution_count": 24,
   "metadata": {},
   "outputs": [],
   "source": [
    "# importação da base de dados\n",
    "\n",
    "dataset = pd.read_csv('./data/Credit_Card_Applications.csv')"
   ]
  },
  {
   "cell_type": "code",
   "execution_count": 25,
   "metadata": {},
   "outputs": [],
   "source": [
    "# separando os dados em atributos e classes\n",
    "\n",
    "X = dataset.iloc[ :, :-1].values\n",
    "y = dataset.iloc[ :, -1].values"
   ]
  },
  {
   "cell_type": "code",
   "execution_count": 26,
   "metadata": {},
   "outputs": [],
   "source": [
    "# escalonamento dos dados entre 0 e 1 (normalização)\n",
    "\n",
    "sc = MinMaxScaler(feature_range=(0,1))\n",
    "X = sc.fit_transform(X)"
   ]
  },
  {
   "cell_type": "code",
   "execution_count": 27,
   "metadata": {},
   "outputs": [
    {
     "data": {
      "text/plain": [
       "array([[8.42681467e-01, 1.00000000e+00, 1.25263158e-01, ...,\n",
       "        5.00000000e-01, 5.00000000e-02, 1.21200000e-02],\n",
       "       [6.96090562e-01, 0.00000000e+00, 1.34135338e-01, ...,\n",
       "        5.00000000e-01, 8.00000000e-02, 0.00000000e+00],\n",
       "       [3.88981656e-01, 0.00000000e+00, 2.38045113e-01, ...,\n",
       "        5.00000000e-01, 1.40000000e-01, 0.00000000e+00],\n",
       "       ...,\n",
       "       [4.39420332e-01, 0.00000000e+00, 7.63909774e-02, ...,\n",
       "        5.00000000e-01, 5.00000000e-02, 0.00000000e+00],\n",
       "       [8.44034934e-01, 0.00000000e+00, 2.05563910e-01, ...,\n",
       "        5.00000000e-01, 6.00000000e-02, 1.10000000e-04],\n",
       "       [1.06907888e-01, 1.00000000e+00, 4.09774436e-01, ...,\n",
       "        0.00000000e+00, 2.80000000e-01, 0.00000000e+00]])"
      ]
     },
     "execution_count": 27,
     "metadata": {},
     "output_type": "execute_result"
    }
   ],
   "source": [
    "# visualização dos dados após o escalonamento\n",
    "\n",
    "X"
   ]
  },
  {
   "cell_type": "code",
   "execution_count": 28,
   "metadata": {},
   "outputs": [],
   "source": [
    "# criação do objeto SOM\n",
    "# x e y são as dimensões da matriz do mapa\n",
    "# input_len é o número de atributos do dataset\n",
    "# sigma é o tamanho do mapa (raio, a partir do nó central)\n",
    "# learning_rate é a taxa de aprendizado (quantos pesos são atualizados por iteração)\n",
    "# random_seed é o valor de semente para o gerador de números aleatórios\n",
    "\n",
    "som = MiniSom(x=10, y=10, input_len=15, sigma=1.0, learning_rate=0.5)"
   ]
  },
  {
   "cell_type": "code",
   "execution_count": 29,
   "metadata": {},
   "outputs": [],
   "source": [
    "# criação do objeto SOM\n",
    "\n",
    "som.random_weights_init(X)"
   ]
  },
  {
   "cell_type": "code",
   "execution_count": 30,
   "metadata": {},
   "outputs": [],
   "source": [
    "# treinamento do modelo\n",
    "\n",
    "som.train_random(data=X, num_iteration=100)"
   ]
  },
  {
   "cell_type": "code",
   "execution_count": 32,
   "metadata": {},
   "outputs": [
    {
     "data": {
      "image/png": "[encoded data removed]",
      "text/plain": [
       "<Figure size 432x288 with 2 Axes>"
      ]
     },
     "metadata": {
      "needs_background": "light"
     },
     "output_type": "display_data"
    }
   ],
   "source": [
    "# criação do mapa\n",
    "bone()\n",
    "pcolor(som.distance_map().T)\n",
    "colorbar()\n",
    "\n",
    "# marcação dos registros no mapa\n",
    "markers = ['o', 's']\n",
    "colors = ['r', 'g']\n",
    "\n",
    "for i, x in enumerate(X):\n",
    "    w = som.winner(x)\n",
    "    plot(w[0] + 0.5,\n",
    "         w[1] + 0.5,\n",
    "         markers[y[i]],\n",
    "         markeredgecolor = colors[y[i]],\n",
    "         markerfacecolor = 'None',\n",
    "         markersize = 10,\n",
    "         markeredgewidth = 2)\n",
    "\n",
    "# visualização do mapa\n",
    "show();"
   ]
  },
  {
   "cell_type": "code",
   "execution_count": 33,
   "metadata": {},
   "outputs": [
    {
     "data": {
      "text/plain": [
       "array([[1.5571415e+07, 1.0000000e+00, 3.7580000e+01, 0.0000000e+00,\n",
       "        2.0000000e+00, 8.0000000e+00, 4.0000000e+00, 0.0000000e+00,\n",
       "        0.0000000e+00, 0.0000000e+00, 0.0000000e+00, 0.0000000e+00,\n",
       "        3.0000000e+00, 1.8400000e+02, 1.0000000e+00],\n",
       "       [1.5609070e+07, 1.0000000e+00, 1.8000000e+01, 1.6500000e-01,\n",
       "        2.0000000e+00, 1.1000000e+01, 7.0000000e+00, 2.1000000e-01,\n",
       "        0.0000000e+00, 0.0000000e+00, 0.0000000e+00, 0.0000000e+00,\n",
       "        2.0000000e+00, 2.0000000e+02, 4.1000000e+01],\n",
       "       [1.5644400e+07, 1.0000000e+00, 3.4580000e+01, 0.0000000e+00,\n",
       "        2.0000000e+00, 8.0000000e+00, 4.0000000e+00, 0.0000000e+00,\n",
       "        0.0000000e+00, 0.0000000e+00, 0.0000000e+00, 0.0000000e+00,\n",
       "        3.0000000e+00, 1.8400000e+02, 1.0000000e+00],\n",
       "       [1.5636626e+07, 1.0000000e+00, 6.2750000e+01, 7.0000000e+00,\n",
       "        2.0000000e+00, 1.0000000e+01, 9.0000000e+00, 0.0000000e+00,\n",
       "        0.0000000e+00, 0.0000000e+00, 0.0000000e+00, 0.0000000e+00,\n",
       "        2.0000000e+00, 0.0000000e+00, 1.3000000e+01],\n",
       "       [1.5600027e+07, 1.0000000e+00, 2.9830000e+01, 2.0400000e+00,\n",
       "        1.0000000e+00, 1.4000000e+01, 8.0000000e+00, 4.0000000e-02,\n",
       "        0.0000000e+00, 0.0000000e+00, 0.0000000e+00, 0.0000000e+00,\n",
       "        2.0000000e+00, 1.2800000e+02, 2.0000000e+00],\n",
       "       [1.5767729e+07, 1.0000000e+00, 2.0000000e+01, 1.2500000e+00,\n",
       "        1.0000000e+00, 4.0000000e+00, 4.0000000e+00, 1.2500000e-01,\n",
       "        0.0000000e+00, 0.0000000e+00, 0.0000000e+00, 0.0000000e+00,\n",
       "        2.0000000e+00, 1.4000000e+02, 5.0000000e+00],\n",
       "       [1.5711446e+07, 1.0000000e+00, 2.2500000e+01, 1.2500000e-01,\n",
       "        1.0000000e+00, 4.0000000e+00, 4.0000000e+00, 1.2500000e-01,\n",
       "        0.0000000e+00, 0.0000000e+00, 0.0000000e+00, 0.0000000e+00,\n",
       "        2.0000000e+00, 2.0000000e+02, 7.1000000e+01],\n",
       "       [1.5737627e+07, 1.0000000e+00, 1.6170000e+01, 4.0000000e-02,\n",
       "        2.0000000e+00, 8.0000000e+00, 4.0000000e+00, 4.0000000e-02,\n",
       "        0.0000000e+00, 0.0000000e+00, 0.0000000e+00, 0.0000000e+00,\n",
       "        2.0000000e+00, 0.0000000e+00, 1.0000000e+00],\n",
       "       [1.5766906e+07, 1.0000000e+00, 2.9830000e+01, 3.5000000e+00,\n",
       "        2.0000000e+00, 8.0000000e+00, 4.0000000e+00, 1.6500000e-01,\n",
       "        0.0000000e+00, 0.0000000e+00, 0.0000000e+00, 0.0000000e+00,\n",
       "        2.0000000e+00, 2.1600000e+02, 1.0000000e+00],\n",
       "       [1.5787693e+07, 1.0000000e+00, 3.1830000e+01, 4.0000000e-02,\n",
       "        1.0000000e+00, 7.0000000e+00, 4.0000000e+00, 4.0000000e-02,\n",
       "        0.0000000e+00, 0.0000000e+00, 0.0000000e+00, 0.0000000e+00,\n",
       "        2.0000000e+00, 0.0000000e+00, 1.0000000e+00],\n",
       "       [1.5723989e+07, 1.0000000e+00, 2.2250000e+01, 9.0000000e+00,\n",
       "        2.0000000e+00, 6.0000000e+00, 4.0000000e+00, 8.5000000e-02,\n",
       "        0.0000000e+00, 0.0000000e+00, 0.0000000e+00, 0.0000000e+00,\n",
       "        2.0000000e+00, 0.0000000e+00, 1.0000000e+00],\n",
       "       [1.5688210e+07, 1.0000000e+00, 3.8250000e+01, 1.0125000e+01,\n",
       "        1.0000000e+00, 4.0000000e+00, 4.0000000e+00, 1.2500000e-01,\n",
       "        0.0000000e+00, 0.0000000e+00, 0.0000000e+00, 0.0000000e+00,\n",
       "        2.0000000e+00, 1.6000000e+02, 1.0000000e+00],\n",
       "       [1.5798895e+07, 1.0000000e+00, 3.4080000e+01, 2.5000000e+00,\n",
       "        2.0000000e+00, 8.0000000e+00, 4.0000000e+00, 1.0000000e+00,\n",
       "        0.0000000e+00, 0.0000000e+00, 0.0000000e+00, 0.0000000e+00,\n",
       "        2.0000000e+00, 4.6000000e+02, 1.7000000e+01],\n",
       "       [1.5732884e+07, 1.0000000e+00, 1.7920000e+01, 2.0500000e-01,\n",
       "        2.0000000e+00, 6.0000000e+00, 4.0000000e+00, 4.0000000e-02,\n",
       "        0.0000000e+00, 0.0000000e+00, 0.0000000e+00, 0.0000000e+00,\n",
       "        2.0000000e+00, 2.8000000e+02, 7.5100000e+02],\n",
       "       [1.5793366e+07, 1.0000000e+00, 3.1570000e+01, 3.0000000e+00,\n",
       "        1.0000000e+00, 3.0000000e+00, 5.0000000e+00, 7.0000000e+00,\n",
       "        0.0000000e+00, 0.0000000e+00, 0.0000000e+00, 0.0000000e+00,\n",
       "        2.0000000e+00, 0.0000000e+00, 2.0000000e+00],\n",
       "       [1.5728906e+07, 1.0000000e+00, 2.9250000e+01, 1.3000000e+01,\n",
       "        2.0000000e+00, 2.0000000e+00, 8.0000000e+00, 5.0000000e-01,\n",
       "        0.0000000e+00, 0.0000000e+00, 0.0000000e+00, 0.0000000e+00,\n",
       "        2.0000000e+00, 2.2800000e+02, 1.0000000e+00],\n",
       "       [1.5813363e+07, 1.0000000e+00, 3.1000000e+01, 2.0850000e+00,\n",
       "        2.0000000e+00, 8.0000000e+00, 4.0000000e+00, 8.5000000e-02,\n",
       "        0.0000000e+00, 0.0000000e+00, 0.0000000e+00, 0.0000000e+00,\n",
       "        2.0000000e+00, 3.0000000e+02, 1.0000000e+00],\n",
       "       [1.5735106e+07, 1.0000000e+00, 1.6250000e+01, 0.0000000e+00,\n",
       "        1.0000000e+00, 6.0000000e+00, 4.0000000e+00, 2.5000000e-01,\n",
       "        0.0000000e+00, 0.0000000e+00, 0.0000000e+00, 0.0000000e+00,\n",
       "        2.0000000e+00, 6.0000000e+01, 1.0000000e+00],\n",
       "       [1.5646521e+07, 1.0000000e+00, 2.9830000e+01, 1.2500000e+00,\n",
       "        1.0000000e+00, 4.0000000e+00, 4.0000000e+00, 2.5000000e-01,\n",
       "        0.0000000e+00, 0.0000000e+00, 0.0000000e+00, 0.0000000e+00,\n",
       "        2.0000000e+00, 2.2400000e+02, 1.0000000e+00],\n",
       "       [1.5778589e+07, 1.0000000e+00, 2.0420000e+01, 0.0000000e+00,\n",
       "        2.0000000e+00, 8.0000000e+00, 4.0000000e+00, 0.0000000e+00,\n",
       "        0.0000000e+00, 0.0000000e+00, 0.0000000e+00, 0.0000000e+00,\n",
       "        3.0000000e+00, 1.8400000e+02, 1.0000000e+00],\n",
       "       [1.5768777e+07, 1.0000000e+00, 3.0170000e+01, 1.0850000e+00,\n",
       "        1.0000000e+00, 8.0000000e+00, 4.0000000e+00, 4.0000000e-02,\n",
       "        0.0000000e+00, 0.0000000e+00, 0.0000000e+00, 0.0000000e+00,\n",
       "        2.0000000e+00, 1.7000000e+02, 1.8000000e+02],\n",
       "       [1.5791326e+07, 1.0000000e+00, 1.7080000e+01, 8.5000000e-02,\n",
       "        1.0000000e+00, 8.0000000e+00, 4.0000000e+00, 4.0000000e-02,\n",
       "        0.0000000e+00, 0.0000000e+00, 0.0000000e+00, 0.0000000e+00,\n",
       "        2.0000000e+00, 1.4000000e+02, 7.2300000e+02],\n",
       "       [1.5735221e+07, 1.0000000e+00, 2.2920000e+01, 1.7000000e-01,\n",
       "        2.0000000e+00, 7.0000000e+00, 4.0000000e+00, 8.5000000e-02,\n",
       "        0.0000000e+00, 0.0000000e+00, 0.0000000e+00, 0.0000000e+00,\n",
       "        1.0000000e+00, 0.0000000e+00, 1.0000000e+00],\n",
       "       [1.5779586e+07, 1.0000000e+00, 2.2920000e+01, 3.1650000e+00,\n",
       "        1.0000000e+00, 8.0000000e+00, 4.0000000e+00, 1.6500000e-01,\n",
       "        0.0000000e+00, 0.0000000e+00, 0.0000000e+00, 0.0000000e+00,\n",
       "        2.0000000e+00, 1.6000000e+02, 1.0590000e+03],\n",
       "       [1.5730150e+07, 1.0000000e+00, 2.6750000e+01, 4.5000000e+00,\n",
       "        1.0000000e+00, 8.0000000e+00, 5.0000000e+00, 2.5000000e+00,\n",
       "        0.0000000e+00, 0.0000000e+00, 0.0000000e+00, 0.0000000e+00,\n",
       "        2.0000000e+00, 2.0000000e+02, 1.2110000e+03],\n",
       "       [1.5769980e+07, 1.0000000e+00, 2.0670000e+01, 4.1500000e-01,\n",
       "        2.0000000e+00, 8.0000000e+00, 4.0000000e+00, 1.2500000e-01,\n",
       "        0.0000000e+00, 0.0000000e+00, 0.0000000e+00, 0.0000000e+00,\n",
       "        2.0000000e+00, 0.0000000e+00, 4.5000000e+01]])"
      ]
     },
     "execution_count": 33,
     "metadata": {},
     "output_type": "execute_result"
    }
   ],
   "source": [
    "# identificação dos fraudes\n",
    "mappings = som.win_map(X)\n",
    "\n",
    "# revertendo a trasnformação de escalonamento para os valores originais\n",
    "fraudes = np.concatenate((mappings[(8,1)], mappings[(9,2)]), axis=0)\n",
    "fraudes = sc.inverse_transform(fraudes)"
   ]
  },
  {
   "cell_type": "code",
   "execution_count": 35,
   "metadata": {},
   "outputs": [
    {
     "data": {
      "text/plain": [
       "(26, 15)"
      ]
     },
     "execution_count": 35,
     "metadata": {},
     "output_type": "execute_result"
    }
   ],
   "source": [
    "# visualização dos registros que são fraudes\n",
    "\n",
    "fraudes"
   ]
  }
 ],
 "metadata": {
  "interpreter": {
   "hash": "ad2bdc8ecc057115af97d19610ffacc2b4e99fae6737bb82f5d7fb13d2f2c186"
  },
  "kernelspec": {
   "display_name": "Python 3.8.8 ('base')",
   "language": "python",
   "name": "python3"
  },
  "language_info": {
   "codemirror_mode": {
    "name": "ipython",
    "version": 3
   },
   "file_extension": ".py",
   "mimetype": "text/x-python",
   "name": "python",
   "nbconvert_exporter": "python",
   "pygments_lexer": "ipython3",
   "version": "3.8.8"
  },
  "orig_nbformat": 4
 },
 "nbformat": 4,
 "nbformat_minor": 2
}
