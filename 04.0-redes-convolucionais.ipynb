{
 "cells": [
  {
   "cell_type": "code",
   "execution_count": 3,
   "metadata": {},
   "outputs": [],
   "source": [
    "# importação das bibliotecas necessárias\n",
    "\n",
    "from tensorflow.keras.models import Sequential                         # Sequential é um modelo sequencial\n",
    "from tensorflow.keras.layers import Conv2D                             # Conv2D é uma camada de convolução\n",
    "from tensorflow.keras.layers import MaxPooling2D                       # MaxPooling2D é uma camada de pooling\n",
    "from tensorflow.keras.layers import Flatten                            # Flatten é uma camada de flattening\n",
    "from tensorflow.keras.layers import Dense                              # Dense é uma camada densa\n",
    "from tensorflow.keras.preprocessing.image import ImageDataGenerator    # ImageDataGenerator é um gerador de dados de imagem"
   ]
  },
  {
   "cell_type": "code",
   "execution_count": 25,
   "metadata": {},
   "outputs": [],
   "source": [
    "# definição do modelo\n",
    "classifier = Sequential() \n",
    "\n",
    "# configurando os parametros da camada de convolução\n",
    "classifier.add(Conv2D(32, (3, 3), input_shape = (64, 64, 3), activation = 'relu'))\n",
    "classifier.add(MaxPooling2D(pool_size = (2, 2)))\n",
    "\n",
    "# otmizando o modelo\n",
    "classifier.add(Conv2D(32, (3, 3), activation = 'relu'))\n",
    "classifier.add(MaxPooling2D(pool_size = (2, 2)))\n",
    "\n",
    "# flatten\n",
    "classifier.add(Flatten())\n",
    "\n",
    "# full connection\n",
    "classifier.add(Dense(units = 128, activation = 'relu'))\n",
    "classifier.add(Dense(units = 1, activation = 'sigmoid'))\n",
    "\n",
    "# compilando o classificador\n",
    "classifier.compile(optimizer = 'adam', loss = 'binary_crossentropy', metrics = ['accuracy'])"
   ]
  },
  {
   "cell_type": "code",
   "execution_count": 26,
   "metadata": {},
   "outputs": [],
   "source": [
    "# pre processamento dos dados de treino\n",
    "train_datagen = ImageDataGenerator(rescale=1./255, \n",
    "                                   shear_range=0.2, \n",
    "                                   zoom_range=0.2, \n",
    "                                   horizontal_flip=True)\n",
    "\n",
    "# pre processamento dos dados de teste\n",
    "test_datagen = ImageDataGenerator(rescale=1./255)"
   ]
  },
  {
   "cell_type": "code",
   "execution_count": 27,
   "metadata": {},
   "outputs": [
    {
     "name": "stdout",
     "output_type": "stream",
     "text": [
      "Found 8000 images belonging to 2 classes.\n"
     ]
    }
   ],
   "source": [
    "# carregando os dados de treino\n",
    "\n",
    "train_set = train_datagen.flow_from_directory('./data/training_set',\n",
    "                                                target_size=(64, 64),\n",
    "                                                batch_size=40,\n",
    "                                                class_mode='binary') "
   ]
  },
  {
   "cell_type": "code",
   "execution_count": 28,
   "metadata": {},
   "outputs": [
    {
     "name": "stdout",
     "output_type": "stream",
     "text": [
      "Found 2000 images belonging to 2 classes.\n"
     ]
    }
   ],
   "source": [
    "# carregando os dados de teste\n",
    "\n",
    "test_set = test_datagen.flow_from_directory('./data/test_set',\n",
    "                                             target_size=(64, 64),\n",
    "                                             batch_size=40,\n",
    "                                             class_mode='binary')"
   ]
  },
  {
   "cell_type": "code",
   "execution_count": 29,
   "metadata": {},
   "outputs": [
    {
     "name": "stdout",
     "output_type": "stream",
     "text": [
      "Epoch 1/5\n",
      "200/200 [==============================] - 34s 169ms/step - loss: 0.6506 - accuracy: 0.6140 - val_loss: 0.6134 - val_accuracy: 0.6640\n",
      "Epoch 2/5\n",
      "200/200 [==============================] - 41s 205ms/step - loss: 0.5788 - accuracy: 0.6941 - val_loss: 0.5454 - val_accuracy: 0.7320\n",
      "Epoch 3/5\n",
      "200/200 [==============================] - 46s 232ms/step - loss: 0.5340 - accuracy: 0.7285 - val_loss: 0.5515 - val_accuracy: 0.7175\n",
      "Epoch 4/5\n",
      "200/200 [==============================] - 52s 260ms/step - loss: 0.5010 - accuracy: 0.7504 - val_loss: 0.4849 - val_accuracy: 0.7675\n",
      "Epoch 5/5\n",
      "200/200 [==============================] - 50s 248ms/step - loss: 0.4775 - accuracy: 0.7760 - val_loss: 0.5059 - val_accuracy: 0.7565\n"
     ]
    },
    {
     "data": {
      "text/plain": [
       "<tensorflow.python.keras.callbacks.History at 0x24b85b90340>"
      ]
     },
     "execution_count": 29,
     "metadata": {},
     "output_type": "execute_result"
    }
   ],
   "source": [
    "# treinamento do classificador\n",
    "\n",
    "classifier.fit_generator(train_set,\n",
    "                         steps_per_epoch=200,     # quantidade de passos por epoca(tamanho do conjunto de treinamento / batch_size)\n",
    "                         epochs=5,                # quantidade de epocas\n",
    "                         validation_data=test_set,\n",
    "                         validation_steps=50)"
   ]
  }
 ],
 "metadata": {
  "interpreter": {
   "hash": "ad2bdc8ecc057115af97d19610ffacc2b4e99fae6737bb82f5d7fb13d2f2c186"
  },
  "kernelspec": {
   "display_name": "Python 3.8.8 ('base')",
   "language": "python",
   "name": "python3"
  },
  "language_info": {
   "codemirror_mode": {
    "name": "ipython",
    "version": 3
   },
   "file_extension": ".py",
   "mimetype": "text/x-python",
   "name": "python",
   "nbconvert_exporter": "python",
   "pygments_lexer": "ipython3",
   "version": "3.8.8"
  },
  "orig_nbformat": 4
 },
 "nbformat": 4,
 "nbformat_minor": 2
}
