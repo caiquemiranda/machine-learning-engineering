{
 "cells": [
  {
   "cell_type": "code",
   "execution_count": 31,
   "metadata": {},
   "outputs": [],
   "source": [
    "# importação das bibliotecas necessarias\n",
    "\n",
    "import pandas as pd                                             # biblioteca para manipulação de dados\n",
    "import numpy as np                                              # biblioteca para cálculo matemático\n",
    "import seaborn as sns                                           # biblioteca para visualização de dados\n",
    "from sklearn.neural_network import MLPClassifier                # biblioteca para criação de modelo de rede neural\n",
    "from sklearn.model_selection import train_test_split            # biblioteca para divisão de dados em conjuntos de treinamento e teste\n",
    "from sklearn.preprocessing import LabelEncoder, OneHotEncoder   # biblioteca para codificação de dados\n",
    "from sklearn.compose import make_column_transformer             # biblioteca para codificação de dados\n",
    "from sklearn.preprocessing import StandardScaler                # biblioteca para normalização dos dados\n",
    "from tensorflow.keras.models import Sequential                  # biblioteca para criação de modelo sequencial\n",
    "from tensorflow.keras.layers import Dense                       # biblioteca para criação de camadas densas\n",
    "from sklearn.metrics import confusion_matrix                    # biblioteca para cálculo da matriz de confusão"
   ]
  },
  {
   "cell_type": "code",
   "execution_count": 9,
   "metadata": {},
   "outputs": [],
   "source": [
    "# carregamento dos dados\n",
    "\n",
    "dataset = pd.read_csv('./data/Churn_Modelling.csv')"
   ]
  },
  {
   "cell_type": "code",
   "execution_count": 10,
   "metadata": {},
   "outputs": [
    {
     "data": {
      "text/html": [
       "<div>\n",
       "<style scoped>\n",
       "    .dataframe tbody tr th:only-of-type {\n",
       "        vertical-align: middle;\n",
       "    }\n",
       "\n",
       "    .dataframe tbody tr th {\n",
       "        vertical-align: top;\n",
       "    }\n",
       "\n",
       "    .dataframe thead th {\n",
       "        text-align: right;\n",
       "    }\n",
       "</style>\n",
       "<table border=\"1\" class=\"dataframe\">\n",
       "  <thead>\n",
       "    <tr style=\"text-align: right;\">\n",
       "      <th></th>\n",
       "      <th>RowNumber</th>\n",
       "      <th>CustomerId</th>\n",
       "      <th>Surname</th>\n",
       "      <th>CreditScore</th>\n",
       "      <th>Geography</th>\n",
       "      <th>Gender</th>\n",
       "      <th>Age</th>\n",
       "      <th>Tenure</th>\n",
       "      <th>Balance</th>\n",
       "      <th>NumOfProducts</th>\n",
       "      <th>HasCrCard</th>\n",
       "      <th>IsActiveMember</th>\n",
       "      <th>EstimatedSalary</th>\n",
       "      <th>Exited</th>\n",
       "    </tr>\n",
       "  </thead>\n",
       "  <tbody>\n",
       "    <tr>\n",
       "      <th>0</th>\n",
       "      <td>1</td>\n",
       "      <td>15634602</td>\n",
       "      <td>Hargrave</td>\n",
       "      <td>619</td>\n",
       "      <td>France</td>\n",
       "      <td>Female</td>\n",
       "      <td>42</td>\n",
       "      <td>2</td>\n",
       "      <td>0.00</td>\n",
       "      <td>1</td>\n",
       "      <td>1</td>\n",
       "      <td>1</td>\n",
       "      <td>101348.88</td>\n",
       "      <td>1</td>\n",
       "    </tr>\n",
       "    <tr>\n",
       "      <th>1</th>\n",
       "      <td>2</td>\n",
       "      <td>15647311</td>\n",
       "      <td>Hill</td>\n",
       "      <td>608</td>\n",
       "      <td>Spain</td>\n",
       "      <td>Female</td>\n",
       "      <td>41</td>\n",
       "      <td>1</td>\n",
       "      <td>83807.86</td>\n",
       "      <td>1</td>\n",
       "      <td>0</td>\n",
       "      <td>1</td>\n",
       "      <td>112542.58</td>\n",
       "      <td>0</td>\n",
       "    </tr>\n",
       "    <tr>\n",
       "      <th>2</th>\n",
       "      <td>3</td>\n",
       "      <td>15619304</td>\n",
       "      <td>Onio</td>\n",
       "      <td>502</td>\n",
       "      <td>France</td>\n",
       "      <td>Female</td>\n",
       "      <td>42</td>\n",
       "      <td>8</td>\n",
       "      <td>159660.80</td>\n",
       "      <td>3</td>\n",
       "      <td>1</td>\n",
       "      <td>0</td>\n",
       "      <td>113931.57</td>\n",
       "      <td>1</td>\n",
       "    </tr>\n",
       "    <tr>\n",
       "      <th>3</th>\n",
       "      <td>4</td>\n",
       "      <td>15701354</td>\n",
       "      <td>Boni</td>\n",
       "      <td>699</td>\n",
       "      <td>France</td>\n",
       "      <td>Female</td>\n",
       "      <td>39</td>\n",
       "      <td>1</td>\n",
       "      <td>0.00</td>\n",
       "      <td>2</td>\n",
       "      <td>0</td>\n",
       "      <td>0</td>\n",
       "      <td>93826.63</td>\n",
       "      <td>0</td>\n",
       "    </tr>\n",
       "    <tr>\n",
       "      <th>4</th>\n",
       "      <td>5</td>\n",
       "      <td>15737888</td>\n",
       "      <td>Mitchell</td>\n",
       "      <td>850</td>\n",
       "      <td>Spain</td>\n",
       "      <td>Female</td>\n",
       "      <td>43</td>\n",
       "      <td>2</td>\n",
       "      <td>125510.82</td>\n",
       "      <td>1</td>\n",
       "      <td>1</td>\n",
       "      <td>1</td>\n",
       "      <td>79084.10</td>\n",
       "      <td>0</td>\n",
       "    </tr>\n",
       "  </tbody>\n",
       "</table>\n",
       "</div>"
      ],
      "text/plain": [
       "   RowNumber  CustomerId   Surname  CreditScore Geography  Gender  Age  \\\n",
       "0          1    15634602  Hargrave          619    France  Female   42   \n",
       "1          2    15647311      Hill          608     Spain  Female   41   \n",
       "2          3    15619304      Onio          502    France  Female   42   \n",
       "3          4    15701354      Boni          699    France  Female   39   \n",
       "4          5    15737888  Mitchell          850     Spain  Female   43   \n",
       "\n",
       "   Tenure    Balance  NumOfProducts  HasCrCard  IsActiveMember  \\\n",
       "0       2       0.00              1          1               1   \n",
       "1       1   83807.86              1          0               1   \n",
       "2       8  159660.80              3          1               0   \n",
       "3       1       0.00              2          0               0   \n",
       "4       2  125510.82              1          1               1   \n",
       "\n",
       "   EstimatedSalary  Exited  \n",
       "0        101348.88       1  \n",
       "1        112542.58       0  \n",
       "2        113931.57       1  \n",
       "3         93826.63       0  \n",
       "4         79084.10       0  "
      ]
     },
     "execution_count": 10,
     "metadata": {},
     "output_type": "execute_result"
    }
   ],
   "source": [
    "# visualização dos primeiros registros\n",
    "\n",
    "dataset.head()"
   ]
  },
  {
   "cell_type": "code",
   "execution_count": 11,
   "metadata": {},
   "outputs": [
    {
     "name": "stdout",
     "output_type": "stream",
     "text": [
      "<class 'pandas.core.frame.DataFrame'>\n",
      "RangeIndex: 10000 entries, 0 to 9999\n",
      "Data columns (total 14 columns):\n",
      " #   Column           Non-Null Count  Dtype  \n",
      "---  ------           --------------  -----  \n",
      " 0   RowNumber        10000 non-null  int64  \n",
      " 1   CustomerId       10000 non-null  int64  \n",
      " 2   Surname          10000 non-null  object \n",
      " 3   CreditScore      10000 non-null  int64  \n",
      " 4   Geography        10000 non-null  object \n",
      " 5   Gender           10000 non-null  object \n",
      " 6   Age              10000 non-null  int64  \n",
      " 7   Tenure           10000 non-null  int64  \n",
      " 8   Balance          10000 non-null  float64\n",
      " 9   NumOfProducts    10000 non-null  int64  \n",
      " 10  HasCrCard        10000 non-null  int64  \n",
      " 11  IsActiveMember   10000 non-null  int64  \n",
      " 12  EstimatedSalary  10000 non-null  float64\n",
      " 13  Exited           10000 non-null  int64  \n",
      "dtypes: float64(2), int64(9), object(3)\n",
      "memory usage: 1.1+ MB\n"
     ]
    }
   ],
   "source": [
    "# visualização de algumas informações sobre o dataset\n",
    "\n",
    "dataset.info()"
   ]
  },
  {
   "cell_type": "code",
   "execution_count": 12,
   "metadata": {},
   "outputs": [],
   "source": [
    "# pre processamento dos dados\n",
    "# separação dos atributos que serão utilizados para treinamento e atributos que serão utilizados para predição\n",
    "\n",
    "X = dataset.iloc[:, 3:13].values\n",
    "y = dataset.iloc[:, 13].values"
   ]
  },
  {
   "cell_type": "code",
   "execution_count": 13,
   "metadata": {},
   "outputs": [],
   "source": [
    "# transformação dos dados categóricos em dados numéricos\n",
    "\n",
    "labelencoder_X1 = LabelEncoder()\n",
    "X[ :, 1] = labelencoder_X1.fit_transform(X[:, 1])\n",
    "labelencoder_X2 = LabelEncoder()\n",
    "X[ :, 2] = labelencoder_X2.fit_transform(X[:, 2])"
   ]
  },
  {
   "cell_type": "code",
   "execution_count": 14,
   "metadata": {},
   "outputs": [],
   "source": [
    "# transformação dummy variables para os dados categóricos\n",
    "\n",
    "onehotencoder = make_column_transformer((OneHotEncoder(categories='auto', sparse='False'), [1]), remainder='passthrough')\n",
    "X = onehotencoder.fit_transform(X)"
   ]
  },
  {
   "cell_type": "code",
   "execution_count": 15,
   "metadata": {},
   "outputs": [],
   "source": [
    "# remoção de atributos que foram transformados em dummy variables\n",
    "\n",
    "X = X[:, 1:]"
   ]
  },
  {
   "cell_type": "code",
   "execution_count": 16,
   "metadata": {},
   "outputs": [
    {
     "data": {
      "text/plain": [
       "array([0.0, 0.0, 619, 0, 42, 2, 0.0, 1, 1, 1, 101348.88], dtype=object)"
      ]
     },
     "execution_count": 16,
     "metadata": {},
     "output_type": "execute_result"
    }
   ],
   "source": [
    "# visualização do primeiro registro\n",
    "\n",
    "X[0]"
   ]
  },
  {
   "cell_type": "code",
   "execution_count": 17,
   "metadata": {},
   "outputs": [],
   "source": [
    "# divisão dos dados em conjuntos de treinamento e teste\n",
    "\n",
    "X_train, X_test, y_train, y_test = train_test_split(X, y, test_size=0.2, random_state=0)"
   ]
  },
  {
   "cell_type": "code",
   "execution_count": 18,
   "metadata": {},
   "outputs": [
    {
     "data": {
      "text/plain": [
       "((8000, 11), (2000, 11), (8000,), (2000,))"
      ]
     },
     "execution_count": 18,
     "metadata": {},
     "output_type": "execute_result"
    }
   ],
   "source": [
    "# Visualização tamanhos conjuntos de treinamento e teste\n",
    "\n",
    "X_train.shape, X_test.shape, y_train.shape, y_test.shape"
   ]
  },
  {
   "cell_type": "code",
   "execution_count": 19,
   "metadata": {},
   "outputs": [],
   "source": [
    "# feature scaling\n",
    "\n",
    "sc = StandardScaler()\n",
    "X_train = sc.fit_transform(X_train)\n",
    "X_test = sc.transform(X_test)"
   ]
  },
  {
   "cell_type": "code",
   "execution_count": 20,
   "metadata": {},
   "outputs": [
    {
     "data": {
      "text/plain": [
       "array([-0.5698444 ,  1.74309049,  0.16958176, -1.09168714, -0.46460796,\n",
       "        0.00666099, -1.21571749,  0.8095029 ,  0.64259497, -1.03227043,\n",
       "        1.10643166])"
      ]
     },
     "execution_count": 20,
     "metadata": {},
     "output_type": "execute_result"
    }
   ],
   "source": [
    "# visualização do primeiro registro\n",
    "\n",
    "X_train[0]"
   ]
  },
  {
   "cell_type": "code",
   "execution_count": 24,
   "metadata": {},
   "outputs": [
    {
     "name": "stdout",
     "output_type": "stream",
     "text": [
      "Epoch 1/100\n",
      "800/800 [==============================] - 0s 554us/step - loss: 0.5068 - accuracy: 0.7950\n",
      "Epoch 2/100\n",
      "800/800 [==============================] - 1s 652us/step - loss: 0.4284 - accuracy: 0.7960\n",
      "Epoch 3/100\n",
      "800/800 [==============================] - 0s 559us/step - loss: 0.4238 - accuracy: 0.7960\n",
      "Epoch 4/100\n",
      "800/800 [==============================] - 0s 534us/step - loss: 0.4199 - accuracy: 0.7987\n",
      "Epoch 5/100\n",
      "800/800 [==============================] - 0s 522us/step - loss: 0.4174 - accuracy: 0.8229\n",
      "Epoch 6/100\n",
      "800/800 [==============================] - 0s 539us/step - loss: 0.4151 - accuracy: 0.8279\n",
      "Epoch 7/100\n",
      "800/800 [==============================] - 0s 586us/step - loss: 0.4140 - accuracy: 0.8299\n",
      "Epoch 8/100\n",
      "800/800 [==============================] - 0s 518us/step - loss: 0.4127 - accuracy: 0.8316\n",
      "Epoch 9/100\n",
      "800/800 [==============================] - 0s 532us/step - loss: 0.4116 - accuracy: 0.8328\n",
      "Epoch 10/100\n",
      "800/800 [==============================] - 0s 528us/step - loss: 0.4107 - accuracy: 0.8350\n",
      "Epoch 11/100\n",
      "800/800 [==============================] - 1s 790us/step - loss: 0.4101 - accuracy: 0.8344\n",
      "Epoch 12/100\n",
      "800/800 [==============================] - 0s 527us/step - loss: 0.4095 - accuracy: 0.8344\n",
      "Epoch 13/100\n",
      "800/800 [==============================] - 0s 541us/step - loss: 0.4086 - accuracy: 0.8350\n",
      "Epoch 14/100\n",
      "800/800 [==============================] - 0s 527us/step - loss: 0.4077 - accuracy: 0.8345\n",
      "Epoch 15/100\n",
      "800/800 [==============================] - 0s 612us/step - loss: 0.4070 - accuracy: 0.8357\n",
      "Epoch 16/100\n",
      "800/800 [==============================] - 0s 515us/step - loss: 0.4065 - accuracy: 0.8356\n",
      "Epoch 17/100\n",
      "800/800 [==============================] - 0s 546us/step - loss: 0.4064 - accuracy: 0.8344\n",
      "Epoch 18/100\n",
      "800/800 [==============================] - 0s 523us/step - loss: 0.4057 - accuracy: 0.8334\n",
      "Epoch 19/100\n",
      "800/800 [==============================] - 0s 535us/step - loss: 0.4050 - accuracy: 0.8357\n",
      "Epoch 20/100\n",
      "800/800 [==============================] - 0s 577us/step - loss: 0.4050 - accuracy: 0.8350\n",
      "Epoch 21/100\n",
      "800/800 [==============================] - 0s 519us/step - loss: 0.4045 - accuracy: 0.8369\n",
      "Epoch 22/100\n",
      "800/800 [==============================] - 0s 581us/step - loss: 0.4041 - accuracy: 0.8353\n",
      "Epoch 23/100\n",
      "800/800 [==============================] - 0s 538us/step - loss: 0.4036 - accuracy: 0.8361\n",
      "Epoch 24/100\n",
      "800/800 [==============================] - 0s 603us/step - loss: 0.4030 - accuracy: 0.8347\n",
      "Epoch 25/100\n",
      "800/800 [==============================] - 0s 532us/step - loss: 0.4031 - accuracy: 0.8353\n",
      "Epoch 26/100\n",
      "800/800 [==============================] - 0s 523us/step - loss: 0.4030 - accuracy: 0.8354\n",
      "Epoch 27/100\n",
      "800/800 [==============================] - 0s 524us/step - loss: 0.4029 - accuracy: 0.8349\n",
      "Epoch 28/100\n",
      "800/800 [==============================] - 0s 537us/step - loss: 0.4026 - accuracy: 0.8351\n",
      "Epoch 29/100\n",
      "800/800 [==============================] - 0s 590us/step - loss: 0.4025 - accuracy: 0.8350\n",
      "Epoch 30/100\n",
      "800/800 [==============================] - 0s 511us/step - loss: 0.4020 - accuracy: 0.8366\n",
      "Epoch 31/100\n",
      "800/800 [==============================] - 0s 521us/step - loss: 0.4022 - accuracy: 0.8354\n",
      "Epoch 32/100\n",
      "800/800 [==============================] - 0s 564us/step - loss: 0.4024 - accuracy: 0.8360\n",
      "Epoch 33/100\n",
      "800/800 [==============================] - 0s 582us/step - loss: 0.4018 - accuracy: 0.8353\n",
      "Epoch 34/100\n",
      "800/800 [==============================] - 1s 670us/step - loss: 0.4019 - accuracy: 0.8347\n",
      "Epoch 35/100\n",
      "800/800 [==============================] - 0s 554us/step - loss: 0.4010 - accuracy: 0.8371\n",
      "Epoch 36/100\n",
      "800/800 [==============================] - 0s 498us/step - loss: 0.4014 - accuracy: 0.8354\n",
      "Epoch 37/100\n",
      "800/800 [==============================] - 0s 525us/step - loss: 0.4009 - accuracy: 0.8359\n",
      "Epoch 38/100\n",
      "800/800 [==============================] - 0s 593us/step - loss: 0.4010 - accuracy: 0.8367\n",
      "Epoch 39/100\n",
      "800/800 [==============================] - 0s 545us/step - loss: 0.4007 - accuracy: 0.8355\n",
      "Epoch 40/100\n",
      "800/800 [==============================] - 0s 546us/step - loss: 0.4002 - accuracy: 0.8365\n",
      "Epoch 41/100\n",
      "800/800 [==============================] - 0s 527us/step - loss: 0.4008 - accuracy: 0.8361\n",
      "Epoch 42/100\n",
      "800/800 [==============================] - 0s 516us/step - loss: 0.4005 - accuracy: 0.8350\n",
      "Epoch 43/100\n",
      "800/800 [==============================] - 0s 570us/step - loss: 0.4007 - accuracy: 0.8367\n",
      "Epoch 44/100\n",
      "800/800 [==============================] - 0s 521us/step - loss: 0.4000 - accuracy: 0.8350\n",
      "Epoch 45/100\n",
      "800/800 [==============================] - 0s 617us/step - loss: 0.4006 - accuracy: 0.8364\n",
      "Epoch 46/100\n",
      "800/800 [==============================] - 0s 518us/step - loss: 0.4005 - accuracy: 0.8359\n",
      "Epoch 47/100\n",
      "800/800 [==============================] - 1s 660us/step - loss: 0.4003 - accuracy: 0.8363\n",
      "Epoch 48/100\n",
      "800/800 [==============================] - 1s 670us/step - loss: 0.4000 - accuracy: 0.8328\n",
      "Epoch 49/100\n",
      "800/800 [==============================] - 0s 612us/step - loss: 0.4002 - accuracy: 0.8346\n",
      "Epoch 50/100\n",
      "800/800 [==============================] - 1s 725us/step - loss: 0.4002 - accuracy: 0.8353\n",
      "Epoch 51/100\n",
      "800/800 [==============================] - 0s 624us/step - loss: 0.3998 - accuracy: 0.8351\n",
      "Epoch 52/100\n",
      "800/800 [==============================] - 1s 737us/step - loss: 0.4000 - accuracy: 0.8359\n",
      "Epoch 53/100\n",
      "800/800 [==============================] - 1s 672us/step - loss: 0.3997 - accuracy: 0.8356\n",
      "Epoch 54/100\n",
      "800/800 [==============================] - 0s 538us/step - loss: 0.3997 - accuracy: 0.8355\n",
      "Epoch 55/100\n",
      "800/800 [==============================] - 0s 613us/step - loss: 0.3998 - accuracy: 0.8365\n",
      "Epoch 56/100\n",
      "800/800 [==============================] - 0s 542us/step - loss: 0.4001 - accuracy: 0.8347\n",
      "Epoch 57/100\n",
      "800/800 [==============================] - 0s 519us/step - loss: 0.3993 - accuracy: 0.8372\n",
      "Epoch 58/100\n",
      "800/800 [==============================] - 0s 520us/step - loss: 0.4001 - accuracy: 0.8350\n",
      "Epoch 59/100\n",
      "800/800 [==============================] - 0s 584us/step - loss: 0.3996 - accuracy: 0.8359\n",
      "Epoch 60/100\n",
      "800/800 [==============================] - 0s 517us/step - loss: 0.3996 - accuracy: 0.8359\n",
      "Epoch 61/100\n",
      "800/800 [==============================] - 0s 502us/step - loss: 0.3995 - accuracy: 0.8344\n",
      "Epoch 62/100\n",
      "800/800 [==============================] - 0s 492us/step - loss: 0.3998 - accuracy: 0.8347\n",
      "Epoch 63/100\n",
      "800/800 [==============================] - 0s 511us/step - loss: 0.3993 - accuracy: 0.8365\n",
      "Epoch 64/100\n",
      "800/800 [==============================] - 0s 562us/step - loss: 0.3993 - accuracy: 0.8367\n",
      "Epoch 65/100\n",
      "800/800 [==============================] - 0s 493us/step - loss: 0.3997 - accuracy: 0.8364\n",
      "Epoch 66/100\n",
      "800/800 [==============================] - 0s 498us/step - loss: 0.4000 - accuracy: 0.8361\n",
      "Epoch 67/100\n",
      "800/800 [==============================] - 0s 490us/step - loss: 0.3987 - accuracy: 0.8372\n",
      "Epoch 68/100\n",
      "800/800 [==============================] - 0s 554us/step - loss: 0.3999 - accuracy: 0.8365\n",
      "Epoch 69/100\n",
      "800/800 [==============================] - 0s 487us/step - loss: 0.3994 - accuracy: 0.8370\n",
      "Epoch 70/100\n",
      "800/800 [==============================] - 0s 482us/step - loss: 0.3989 - accuracy: 0.8341\n",
      "Epoch 71/100\n",
      "800/800 [==============================] - 0s 540us/step - loss: 0.3992 - accuracy: 0.8357\n",
      "Epoch 72/100\n",
      "800/800 [==============================] - 0s 545us/step - loss: 0.3991 - accuracy: 0.8365\n",
      "Epoch 73/100\n",
      "800/800 [==============================] - 0s 537us/step - loss: 0.3987 - accuracy: 0.8350\n",
      "Epoch 74/100\n",
      "800/800 [==============================] - 0s 587us/step - loss: 0.3988 - accuracy: 0.8371\n",
      "Epoch 75/100\n",
      "800/800 [==============================] - 0s 522us/step - loss: 0.3989 - accuracy: 0.8357\n",
      "Epoch 76/100\n",
      "800/800 [==============================] - 0s 533us/step - loss: 0.3983 - accuracy: 0.8347\n",
      "Epoch 77/100\n",
      "800/800 [==============================] - 0s 516us/step - loss: 0.3983 - accuracy: 0.8359\n",
      "Epoch 78/100\n",
      "800/800 [==============================] - 0s 588us/step - loss: 0.3982 - accuracy: 0.8347\n",
      "Epoch 79/100\n",
      "800/800 [==============================] - 0s 526us/step - loss: 0.3979 - accuracy: 0.8345\n",
      "Epoch 80/100\n",
      "800/800 [==============================] - 0s 523us/step - loss: 0.3978 - accuracy: 0.8341\n",
      "Epoch 81/100\n",
      "800/800 [==============================] - 0s 496us/step - loss: 0.3975 - accuracy: 0.8355\n",
      "Epoch 82/100\n",
      "800/800 [==============================] - 0s 498us/step - loss: 0.3973 - accuracy: 0.8367\n",
      "Epoch 83/100\n",
      "800/800 [==============================] - 0s 620us/step - loss: 0.3970 - accuracy: 0.8357\n",
      "Epoch 84/100\n",
      "800/800 [==============================] - 0s 472us/step - loss: 0.3968 - accuracy: 0.8370\n",
      "Epoch 85/100\n",
      "800/800 [==============================] - 0s 482us/step - loss: 0.3966 - accuracy: 0.8360\n",
      "Epoch 86/100\n",
      "800/800 [==============================] - 0s 497us/step - loss: 0.3963 - accuracy: 0.8339\n",
      "Epoch 87/100\n",
      "800/800 [==============================] - 0s 554us/step - loss: 0.3959 - accuracy: 0.8361\n",
      "Epoch 88/100\n",
      "800/800 [==============================] - 0s 482us/step - loss: 0.3956 - accuracy: 0.8351\n",
      "Epoch 89/100\n",
      "800/800 [==============================] - 0s 477us/step - loss: 0.3958 - accuracy: 0.8364\n",
      "Epoch 90/100\n",
      "800/800 [==============================] - 0s 487us/step - loss: 0.3957 - accuracy: 0.8363\n",
      "Epoch 91/100\n",
      "800/800 [==============================] - 0s 481us/step - loss: 0.3953 - accuracy: 0.8363\n",
      "Epoch 92/100\n",
      "800/800 [==============================] - 0s 479us/step - loss: 0.3954 - accuracy: 0.8378\n",
      "Epoch 93/100\n",
      "800/800 [==============================] - 0s 578us/step - loss: 0.3952 - accuracy: 0.8371\n",
      "Epoch 94/100\n",
      "800/800 [==============================] - 0s 534us/step - loss: 0.3952 - accuracy: 0.8354\n",
      "Epoch 95/100\n",
      "800/800 [==============================] - 0s 593us/step - loss: 0.3951 - accuracy: 0.8374\n",
      "Epoch 96/100\n",
      "800/800 [==============================] - 0s 586us/step - loss: 0.3944 - accuracy: 0.8372\n",
      "Epoch 97/100\n",
      "800/800 [==============================] - 1s 638us/step - loss: 0.3940 - accuracy: 0.8366\n",
      "Epoch 98/100\n",
      "800/800 [==============================] - 0s 586us/step - loss: 0.3949 - accuracy: 0.8369\n",
      "Epoch 99/100\n",
      "800/800 [==============================] - 0s 534us/step - loss: 0.3945 - accuracy: 0.8360\n",
      "Epoch 100/100\n",
      "800/800 [==============================] - 0s 525us/step - loss: 0.3939 - accuracy: 0.8388\n"
     ]
    },
    {
     "data": {
      "text/plain": [
       "<tensorflow.python.keras.callbacks.History at 0x1d9714f0580>"
      ]
     },
     "execution_count": 24,
     "metadata": {},
     "output_type": "execute_result"
    }
   ],
   "source": [
    "# entrada com 11 atributos => camada oculta com 6 neurônios => camada de saída com 1 neurônio\n",
    "# função de ativação oculta(relu)oculta(relu)saida(sigmoide)\n",
    "# número de épocas = 100\n",
    "# otimização = adam (gradiente descendente stocastico) achar o melhor valor para otimização dos pesos\n",
    "# loss = binary_crossentropy\n",
    "# metrica = acurácia\n",
    "\n",
    "\n",
    "# criação do modelo de rede neural\n",
    "nn_model = Sequential()\n",
    "\n",
    "# definindo parametros da rede neural\n",
    "nn_model.add(Dense(units=6, kernel_initializer='uniform', activation='relu', input_dim=11))\n",
    "nn_model.add(Dense(units=6, kernel_initializer='uniform', activation='relu'))\n",
    "nn_model.add(Dense(units=1, kernel_initializer='uniform', activation='sigmoid'))\n",
    "\n",
    "# compilando o modelo\n",
    "nn_model.compile(optimizer='adam', loss='binary_crossentropy', metrics=['accuracy'])\n",
    "\n",
    "# treinamento do modelo\n",
    "nn_model.fit(X_train, y_train, batch_size=10, epochs=100)\n"
   ]
  },
  {
   "cell_type": "code",
   "execution_count": 27,
   "metadata": {},
   "outputs": [
    {
     "data": {
      "text/plain": [
       "array([[0.21544278],\n",
       "       [0.38618645],\n",
       "       [0.11509904],\n",
       "       ...,\n",
       "       [0.23292375],\n",
       "       [0.14361072],\n",
       "       [0.11136103]], dtype=float32)"
      ]
     },
     "execution_count": 27,
     "metadata": {},
     "output_type": "execute_result"
    }
   ],
   "source": [
    "# previsão dos dados de teste\n",
    "\n",
    "y_pred = nn_model.predict(X_test)\n",
    "y_pred"
   ]
  },
  {
   "cell_type": "code",
   "execution_count": 28,
   "metadata": {},
   "outputs": [
    {
     "data": {
      "text/plain": [
       "array([[False],\n",
       "       [False],\n",
       "       [False],\n",
       "       ...,\n",
       "       [False],\n",
       "       [False],\n",
       "       [False]])"
      ]
     },
     "execution_count": 28,
     "metadata": {},
     "output_type": "execute_result"
    }
   ],
   "source": [
    "# transformação dos dados de teste em dados binários\n",
    "\n",
    "y_pred = (y_pred > 0.5)\n",
    "y_pred"
   ]
  },
  {
   "cell_type": "code",
   "execution_count": 30,
   "metadata": {},
   "outputs": [
    {
     "data": {
      "text/plain": [
       "array([[1547,   48],\n",
       "       [ 261,  144]], dtype=int64)"
      ]
     },
     "execution_count": 30,
     "metadata": {},
     "output_type": "execute_result"
    }
   ],
   "source": [
    "# matriz de confusão\n",
    "\n",
    "cmm = confusion_matrix(y_test, y_pred)\n",
    "cmm"
   ]
  },
  {
   "cell_type": "code",
   "execution_count": 33,
   "metadata": {},
   "outputs": [
    {
     "data": {
      "image/png": "[encoded data removed]",
      "text/plain": [
       "<Figure size 432x288 with 2 Axes>"
      ]
     },
     "metadata": {
      "needs_background": "light"
     },
     "output_type": "display_data"
    }
   ],
   "source": [
    "# visualização da matriz de confusão com seaborn\n",
    "\n",
    "sns.heatmap(cmm, annot=True, cmap='Blues', fmt='g');"
   ]
  }
 ],
 "metadata": {
  "interpreter": {
   "hash": "ad2bdc8ecc057115af97d19610ffacc2b4e99fae6737bb82f5d7fb13d2f2c186"
  },
  "kernelspec": {
   "display_name": "Python 3.8.8 ('base')",
   "language": "python",
   "name": "python3"
  },
  "language_info": {
   "codemirror_mode": {
    "name": "ipython",
    "version": 3
   },
   "file_extension": ".py",
   "mimetype": "text/x-python",
   "name": "python",
   "nbconvert_exporter": "python",
   "pygments_lexer": "ipython3",
   "version": "3.8.8"
  },
  "orig_nbformat": 4
 },
 "nbformat": 4,
 "nbformat_minor": 2
}
